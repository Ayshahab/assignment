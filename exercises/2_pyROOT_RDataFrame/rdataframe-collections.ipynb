{
 "cells": [
  {
   "cell_type": "markdown",
   "id": "41ca9b9e",
   "metadata": {},
   "source": [
    "# Exercise: RDataFrame and collections"
   ]
  },
  {
   "cell_type": "markdown",
   "id": "c5657ad2",
   "metadata": {},
   "source": [
    "The same dataset used in the previous exercise (`TTree` \"dataset\" in file `../data/example_file.root`) contains two vector columns `vec1` and `vec2`.<br>\n",
    "The elements of `vec1` are distributed as a mixture of Gaussians, plus background noise.<br>\n",
    "To remove the background noise, select the elements of `vec1` for which the square of the corresponding elements in `vec2` is less than 0.1.\n",
    "\n",
    "Where are the peaks of this mixture of Gaussians?\n",
    "\n",
    "### Useful links\n",
    "\n",
    "- [RDataFrame: working with collections](https://root.cern/doc/master/classROOT_1_1RDataFrame.html#collections)\n",
    "- [RVec reference](https://root.cern/doc/master/classROOT_1_1VecOps_1_1RVec.html)"
   ]
  },
  {
   "cell_type": "code",
   "execution_count": 3,
   "id": "4dea17f9",
   "metadata": {},
   "outputs": [
    {
     "name": "stdout",
     "output_type": "stream",
     "text": [
      "Columns in the dataset: { \"a\", \"b\", \"vec1\", \"vec2\" }\n"
     ]
    }
   ],
   "source": [
    "import ROOT\n",
    "import uproot\n",
    "import awkward as ak\n",
    "import matplotlib.pyplot as plt\n",
    "import numpy as np\n",
    "\n",
    "treename = \"dataset\"\n",
    "filename = \"example_file.root\"\n",
    "df = ROOT.RDataFrame(treename, filename)\n",
    "\n",
    "print(f\"Columns in the dataset: {df.GetColumnNames()}\")\n",
    "\n"
   ]
  },
  {
   "cell_type": "code",
   "execution_count": null,
   "id": "ec673311",
   "metadata": {},
   "outputs": [],
   "source": [
    "\n",
    "# Open the file and get the tree (adjust path if needed)\n",
    "file = uproot.open(\"example_file.root\")\n",
    "tree = file[\"dataset\"]\n",
    "\n",
    "# Load the vector branches (as awkward arrays)\n",
    "vec1 = tree[\"vec1\"].arrays(library=\"ak\")[\"vec1\"]\n",
    "vec2 = tree[\"vec2\"].arrays(library=\"ak\")[\"vec2\"]\n",
    "\n",
    "# Condition: select elements of vec1 where vec2 squared < 0.1\n",
    "condition = (vec2 ** 2) < 0.1\n",
    "\n",
    "# Use awkward masking to filter vec1 elements accordingly\n",
    "filtered_vec1 = vec1[condition]\n",
    "\n",
    "# Flatten the filtered array to 1D for histogramming\n",
    "flat_vec1 = ak.flatten(filtered_vec1)\n"
   ]
  },
  {
   "cell_type": "code",
   "execution_count": 7,
   "id": "b421c107",
   "metadata": {},
   "outputs": [
    {
     "data": {
      "image/png": "[encoded data removed]",
      "text/plain": [
       "<Figure size 576x360 with 1 Axes>"
      ]
     },
     "metadata": {
      "needs_background": "light"
     },
     "output_type": "display_data"
    }
   ],
   "source": [
    "file= uproot.open(\"example_file.root\")\n",
    "tree=file[\"dataset\"]\n",
    "\n",
    "v1=tree[\"vec1\"].arrays(library=\"ak\")[\"vec1\"]\n",
    "v2=tree[\"vec2\"].arrays(library=\"ak\")[\"vec2\"]\n",
    "\n",
    "fltr= (v2*v2)<0.1\n",
    "\n",
    "filter_v1= v1[fltr]\n",
    "\n",
    "flat_v1= ak.flatten(filter_v1)\n",
    "\n",
    "\n",
    "plt.figure(figsize=(8,5))\n",
    "plt.hist(flat_v1, bins=100, histtype='step', color='blue')\n",
    "plt.xlabel('vec1')\n",
    "plt.ylabel('Counts')\n",
    "plt.title('filtered vector 1 distribution')\n",
    "plt.grid(True)\n",
    "plt.show()\n",
    "\n"
   ]
  },
  {
   "cell_type": "code",
   "execution_count": null,
   "id": "31c5a206",
   "metadata": {},
   "outputs": [],
   "source": []
  }
 ],
 "metadata": {
  "kernelspec": {
   "display_name": "Python 3 (ipykernel)",
   "language": "python",
   "name": "python3"
  },
  "language_info": {
   "codemirror_mode": {
    "name": "ipython",
    "version": 3
   },
   "file_extension": ".py",
   "mimetype": "text/x-python",
   "name": "python",
   "nbconvert_exporter": "python",
   "pygments_lexer": "ipython3",
   "version": "3.9.12"
  }
 },
 "nbformat": 4,
 "nbformat_minor": 5
}
