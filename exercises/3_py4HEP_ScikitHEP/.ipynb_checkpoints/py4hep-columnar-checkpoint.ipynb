{
 "cells": [
  {
   "cell_type": "markdown",
   "id": "76987c2b-29f7-47dc-8393-47d278f48e67",
   "metadata": {
    "tags": []
   },
   "source": [
    "# Project: Discover the Higgs!\n",
    "\n",
    "CREDIT: This notebook was developed by Jim Pivarski and Ioana Ifrim for the [columnar data analysis](https://indico.cern.ch/event/1287965/timetable/#41-columnar-data-analysis) tutorial, presented at CoDaS-HEP on July 20, 2023. For full material, please visit please visit this [repository](https://github.com/ioanaif/columnar-data-analysis-codas-hep-2023)."
   ]
  },
  {
   "cell_type": "markdown",
   "id": "eaeae350",
   "metadata": {},
   "source": [
    "## Setup\n",
    "\n",
    "### Libraries"
   ]
  },
  {
   "cell_type": "code",
   "execution_count": 1,
   "id": "11cf3602-7495-4017-ae6e-7c1ef37406be",
   "metadata": {
    "tags": []
   },
   "outputs": [],
   "source": [
    "import hist, vector\n",
    "import uproot\n",
    "import awkward as ak\n",
    "import matplotlib.pyplot as plt\n",
    "import numpy as np\n",
    "\n",
    "vector.register_awkward()"
   ]
  },
  {
   "cell_type": "markdown",
   "id": "45475d48-4041-4f83-9115-97cf8f149c70",
   "metadata": {
    "tags": []
   },
   "source": [
    "### Data Setup"
   ]
  },
  {
   "cell_type": "code",
   "execution_count": 2,
   "id": "f74324a2",
   "metadata": {},
   "outputs": [
    {
     "name": "stdout",
     "output_type": "stream",
     "text": [
      "--2025-06-21 17:31:18--  https://cernbox.cern.ch/remote.php/dav/public-files/slWSvR2aRSA7S8Z/SMHiggsToZZTo4L.root\n",
      "Resolving cernbox.cern.ch (cernbox.cern.ch)... 128.142.53.35, 128.142.170.17, 137.138.120.151, ...\n",
      "Connecting to cernbox.cern.ch (cernbox.cern.ch)|128.142.53.35|:443... connected.\n",
      "HTTP request sent, awaiting response... 200 OK\n",
      "Length: 42400229 (40M) [application/octet-stream]\n",
      "Saving to: ‘SMHiggsToZZTo4L.root.3’\n",
      "\n",
      "SMHiggsToZZTo4L.roo 100%[===================>]  40.44M  17.0MB/s    in 2.4s    \n",
      "\n",
      "2025-06-21 17:31:22 (17.0 MB/s) - ‘SMHiggsToZZTo4L.root.3’ saved [42400229/42400229]\n",
      "\n"
     ]
    }
   ],
   "source": [
    "# Run to download the dataset\n",
    "!wget https://cernbox.cern.ch/remote.php/dav/public-files/slWSvR2aRSA7S8Z/SMHiggsToZZTo4L.root"
   ]
  },
  {
   "cell_type": "code",
   "execution_count": 3,
   "id": "8f177875-5288-4eb3-8b33-e40f8acf3b46",
   "metadata": {
    "jupyter": {
     "source_hidden": true
    },
    "tags": []
   },
   "outputs": [
    {
     "name": "stdout",
     "output_type": "stream",
     "text": [
      "name                 | typename                 | interpretation                \n",
      "---------------------+--------------------------+-------------------------------\n",
      "run                  | int32_t                  | AsDtype('>i4')\n",
      "luminosityBlock      | uint32_t                 | AsDtype('>u4')\n",
      "event                | uint64_t                 | AsDtype('>u8')\n",
      "PV_npvs              | int32_t                  | AsDtype('>i4')\n",
      "PV_x                 | float                    | AsDtype('>f4')\n",
      "PV_y                 | float                    | AsDtype('>f4')\n",
      "PV_z                 | float                    | AsDtype('>f4')\n",
      "nMuon                | uint32_t                 | AsDtype('>u4')\n",
      "Muon_pt              | float[]                  | AsJagged(AsDtype('>f4'))\n",
      "Muon_eta             | float[]                  | AsJagged(AsDtype('>f4'))\n",
      "Muon_phi             | float[]                  | AsJagged(AsDtype('>f4'))\n",
      "Muon_mass            | float[]                  | AsJagged(AsDtype('>f4'))\n",
      "Muon_charge          | int32_t[]                | AsJagged(AsDtype('>i4'))\n",
      "Muon_pfRelIso03_all  | float[]                  | AsJagged(AsDtype('>f4'))\n",
      "Muon_pfRelIso04_all  | float[]                  | AsJagged(AsDtype('>f4'))\n",
      "Muon_dxy             | float[]                  | AsJagged(AsDtype('>f4'))\n",
      "Muon_dxyErr          | float[]                  | AsJagged(AsDtype('>f4'))\n",
      "Muon_dz              | float[]                  | AsJagged(AsDtype('>f4'))\n",
      "Muon_dzErr           | float[]                  | AsJagged(AsDtype('>f4'))\n",
      "nElectron            | uint32_t                 | AsDtype('>u4')\n",
      "Electron_pt          | float[]                  | AsJagged(AsDtype('>f4'))\n",
      "Electron_eta         | float[]                  | AsJagged(AsDtype('>f4'))\n",
      "Electron_phi         | float[]                  | AsJagged(AsDtype('>f4'))\n",
      "Electron_mass        | float[]                  | AsJagged(AsDtype('>f4'))\n",
      "Electron_charge      | int32_t[]                | AsJagged(AsDtype('>i4'))\n",
      "Electron_pfRelIso... | float[]                  | AsJagged(AsDtype('>f4'))\n",
      "Electron_dxy         | float[]                  | AsJagged(AsDtype('>f4'))\n",
      "Electron_dxyErr      | float[]                  | AsJagged(AsDtype('>f4'))\n",
      "Electron_dz          | float[]                  | AsJagged(AsDtype('>f4'))\n",
      "Electron_dzErr       | float[]                  | AsJagged(AsDtype('>f4'))\n",
      "MET_pt               | float                    | AsDtype('>f4')\n",
      "MET_phi              | float                    | AsDtype('>f4')\n"
     ]
    }
   ],
   "source": [
    "# Get a handle to the ROOT file and show the available branches in the tree\n",
    "file = uproot.open(\"./SMHiggsToZZTo4L.root\")\n",
    "tree = file[\"Events\"]\n",
    "tree.show()"
   ]
  },
  {
   "cell_type": "code",
   "execution_count": 4,
   "id": "9cb75da9",
   "metadata": {},
   "outputs": [],
   "source": [
    "# Load the data into an awkward array\n",
    "events = tree.arrays()"
   ]
  },
  {
   "cell_type": "markdown",
   "id": "45492e42",
   "metadata": {},
   "source": [
    "For future convenience, and to be able to use `vector` more easily, we will reformat the loaded data into a more manageable format. Note that this is not neccesary, but is just to make life a bit simpler."
   ]
  },
  {
   "cell_type": "code",
   "execution_count": 5,
   "id": "828ddae1",
   "metadata": {},
   "outputs": [],
   "source": [
    "events = ak.zip({\n",
    "    \"PV\": ak.zip({\n",
    "        \"x\": events[\"PV_x\"],\n",
    "        \"y\": events[\"PV_y\"],\n",
    "        \"z\": events[\"PV_z\"],\n",
    "    }, with_name=\"Vector3D\"),\n",
    "    \"muon\": ak.zip({\n",
    "        \"pt\": events[\"Muon_pt\"],\n",
    "        \"phi\": events[\"Muon_phi\"],\n",
    "        \"eta\": events[\"Muon_eta\"],\n",
    "        \"mass\": events[\"Muon_mass\"],\n",
    "        \"charge\": events[\"Muon_charge\"],\n",
    "        \"pfRelIso03\": events[\"Muon_pfRelIso03_all\"],\n",
    "        \"pfRelIso04\": events[\"Muon_pfRelIso04_all\"],\n",
    "    }, with_name=\"Momentum4D\"),\n",
    "    \"electron\": ak.zip({\n",
    "        \"pt\": events[\"Electron_pt\"],\n",
    "        \"phi\": events[\"Electron_phi\"],\n",
    "        \"eta\": events[\"Electron_eta\"],\n",
    "        \"mass\": events[\"Electron_mass\"],\n",
    "        \"charge\": events[\"Electron_charge\"],\n",
    "        \"pfRelIso03\": events[\"Electron_pfRelIso03_all\"],\n",
    "    }, with_name=\"Momentum4D\"),\n",
    "    \"MET\": ak.zip({\n",
    "        \"pt\": events[\"MET_pt\"],\n",
    "        \"phi\": events[\"MET_phi\"],\n",
    "    }, with_name=\"Momentum2D\"),\n",
    "}, depth_limit=1)"
   ]
  },
  {
   "cell_type": "code",
   "execution_count": 6,
   "id": "492e2797",
   "metadata": {},
   "outputs": [
    {
     "data": {
      "text/plain": [
       "<Array [[63, 38.1, 4.05], ... 4.75], [], []] type='299973 * var * float32'>"
      ]
     },
     "execution_count": 6,
     "metadata": {},
     "output_type": "execute_result"
    }
   ],
   "source": [
    "# Example of accesing some data through dict-like syntax\n",
    "events[\"muon\"][\"pt\"]"
   ]
  },
  {
   "cell_type": "code",
   "execution_count": 7,
   "id": "74097b98",
   "metadata": {},
   "outputs": [
    {
     "data": {
      "text/plain": [
       "<Array [[63, 38.1, 4.05], ... 4.75], [], []] type='299973 * var * float32'>"
      ]
     },
     "execution_count": 7,
     "metadata": {},
     "output_type": "execute_result"
    }
   ],
   "source": [
    "# Example of accessing data through the awkward array syntax\n",
    "events.muon.pt\n"
   ]
  },
  {
   "cell_type": "code",
   "execution_count": 8,
   "id": "6f115d5e",
   "metadata": {},
   "outputs": [
    {
     "data": {
      "text/plain": [
       "<MomentumArray4D [[{pt: 63, phi: 2.97, ... [], []] type='299973 * var * Momentum...'>"
      ]
     },
     "execution_count": 8,
     "metadata": {},
     "output_type": "execute_result"
    }
   ],
   "source": [
    "events.muon"
   ]
  },
  {
   "cell_type": "markdown",
   "id": "1f1508f5-ae16-41ab-9d2a-61e22768a697",
   "metadata": {},
   "source": [
    "## Higgs mass peak: 4 leptons of the same flavor"
   ]
  },
  {
   "cell_type": "markdown",
   "id": "dfb0246b-dfb9-4b65-976e-fc65493b3036",
   "metadata": {},
   "source": [
    "**Exercise**\n",
    "\n",
    "**Instead of a Z mass peak, formed with 2 muons (or 2 electrons), draw a Higgs mass peak with 4 muons (or 4 electrons). No need for any cuts, yet. Focus only on the combinatorics.**\n",
    "\n",
    "**Hint:** Look at the [ak.combinations](https://awkward-array.readthedocs.io/en/latest/_auto/ak.combinations.html) documentation to find the argument you need to change.\n",
    "\n",
    "**Hint:** Do it in small steps! That's what an interactive environment is for."
   ]
  },
  {
   "cell_type": "code",
   "execution_count": 9,
   "id": "66968a55",
   "metadata": {},
   "outputs": [
    {
     "data": {
      "image/png": "[encoded data removed]",
      "text/plain": [
       "<Figure size 576x432 with 1 Axes>"
      ]
     },
     "metadata": {
      "needs_background": "light"
     },
     "output_type": "display_data"
    }
   ],
   "source": [
    "mu_combos = ak.combinations(events.muon, 4, fields= [\"mu1\",\"mu2\",\"mu3\",\"mu4\"])\n",
    "\n",
    "mu1=mu_combos[\"mu1\"]\n",
    "mu2=mu_combos[\"mu2\"]\n",
    "mu3=mu_combos[\"mu3\"]\n",
    "mu4=mu_combos[\"mu4\"]\n",
    "\n",
    "mu_sum=mu1+mu2+mu3+mu4\n",
    "inv_mass= mu_sum.mass\n",
    "\n",
    "\n",
    "h = hist.Hist.new.Reg(100, 0, 300, name=\"mass\", label=\"invariant mass 4 mu\").Double()\n",
    "h.fill(ak.ravel(inv_mass))\n",
    "\n",
    "fig, ax = plt.subplots(figsize=(8,6))\n",
    "h.plot(ax=ax)\n",
    "ax.set_title(\"Higgs Mass Peak from 4 Muons\")\n",
    "plt.grid(True)\n",
    "plt.show()"
   ]
  },
  {
   "cell_type": "markdown",
   "id": "c2de34d2-a4ff-4969-829f-33b47a343a02",
   "metadata": {},
   "source": [
    "Should look like:\n",
    "\n",
    "<img src=\"./imgs/wbimg1.png\" alt=\"wbimg1\" height=\"350px\">"
   ]
  },
  {
   "cell_type": "markdown",
   "id": "b516bd97-af41-421f-bbc6-bc36e17cbacf",
   "metadata": {
    "tags": []
   },
   "source": [
    "### Charge-based collections"
   ]
  },
  {
   "cell_type": "markdown",
   "id": "a4091d2a-b274-452f-bf0d-67f058cbbfe6",
   "metadata": {},
   "source": [
    "Because of the way that particles are measured and reconstructed, different particle types (electron versus muon) are in different collections, but different charges are not. But physically, charge is a quantum number just like flavor (particle type), and it can be convenient to put different charges into different collections."
   ]
  },
  {
   "cell_type": "code",
   "execution_count": 10,
   "id": "2cc4393c-ba64-406c-a555-486195f44665",
   "metadata": {
    "tags": []
   },
   "outputs": [],
   "source": [
    "muons_plus  = events.muon[events.muon.charge > 0]\n",
    "muons_minus = events.muon[events.muon.charge < 0]\n",
    "electrons_plus  = events.electron[events.electron.charge > 0]\n",
    "electrons_minus = events.electron[events.electron.charge < 0]"
   ]
  },
  {
   "cell_type": "markdown",
   "id": "4d3d070a-f658-48ae-ad48-9e278e3b2fd1",
   "metadata": {},
   "source": [
    "Now we can make opposite-sign Z peaks without applying a cut to the combinations. Also, the [ak.combinations](https://awkward-array.readthedocs.io/en/latest/_auto/ak.combinations.html) problem (picking $n$ items from a single collection) has become an [ak.cartesian](https://awkward-array.readthedocs.io/en/latest/_auto/ak.cartesian.html) problem (finding all pairs of items drawn from different collections)."
   ]
  },
  {
   "cell_type": "code",
   "execution_count": 11,
   "id": "cf47f132-0296-471f-9db1-69cc12413654",
   "metadata": {
    "tags": []
   },
   "outputs": [
    {
     "data": {
      "text/plain": [
       "[StairsArtists(stairs=<matplotlib.patches.StepPatch object at 0x7f16ada23fd0>, errorbar=<ErrorbarContainer object of 3 artists>, legend_artist=<ErrorbarContainer object of 3 artists>)]"
      ]
     },
     "execution_count": 11,
     "metadata": {},
     "output_type": "execute_result"
    },
    {
     "data": {
      "image/png": "[encoded data removed]",
      "text/plain": [
       "<Figure size 432x288 with 1 Axes>"
      ]
     },
     "metadata": {
      "needs_background": "light"
     },
     "output_type": "display_data"
    }
   ],
   "source": [
    "mu1, mu2 = ak.unzip(ak.cartesian((muons_plus, muons_minus)))\n",
    "hist.Hist.new.Regular(100, 0, 150).Double().fill(ak.ravel((mu1 + mu2).mass)).plot()"
   ]
  },
  {
   "cell_type": "markdown",
   "id": "17fa9a03-c235-4706-b324-ba878fcf3325",
   "metadata": {},
   "source": [
    "(This section doesn't have any questions; it's to set things up for the next section.)"
   ]
  },
  {
   "cell_type": "markdown",
   "id": "4d907502-82f2-439c-b8c6-be325b9c4725",
   "metadata": {},
   "source": [
    "## Higgs mass peak: the H → ZZ → 2μ2e final state"
   ]
  },
  {
   "cell_type": "markdown",
   "id": "bddbd99b-c6bf-4ef2-adef-5c3a1093eba9",
   "metadata": {},
   "source": [
    "**Exercise**\n",
    "\n",
    "**Now that you have `muons_plus`, `muons_minus`, `electrons_plus`, and `electrons_minus`, how would you make a Higgs mass peak for decays into 2 muons and 2 electrons?**\n",
    "\n",
    "**Hint:** [ak.cartesian](https://awkward-array.readthedocs.io/en/latest/_auto/ak.cartesian.html) can take more than two input collections.\n",
    "\n",
    "**Hint:** Still no need for cuts, thanks to the input collections already having the charge-cut applied.\n",
    "```"
   ]
  },
  {
   "cell_type": "code",
   "execution_count": 12,
   "id": "2dfcc61b",
   "metadata": {},
   "outputs": [
    {
     "data": {
      "text/plain": [
       "[StairsArtists(stairs=<matplotlib.patches.StepPatch object at 0x7f16ad8fc280>, errorbar=<ErrorbarContainer object of 3 artists>, legend_artist=<ErrorbarContainer object of 3 artists>)]"
      ]
     },
     "execution_count": 12,
     "metadata": {},
     "output_type": "execute_result"
    },
    {
     "data": {
      "image/png": "[encoded data removed]",
      "text/plain": [
       "<Figure size 432x288 with 1 Axes>"
      ]
     },
     "metadata": {
      "needs_background": "light"
     },
     "output_type": "display_data"
    }
   ],
   "source": [
    "mu1, mu2, e1,e2  = ak.unzip(ak.cartesian((muons_plus, muons_minus, electrons_plus, electrons_minus)))\n",
    "lep4= mu1+mu2+e1+e2\n",
    "hist.Hist.new.Regular(100, 0, 150).Double().fill(ak.ravel((lep4).mass)).plot()"
   ]
  },
  {
   "cell_type": "markdown",
   "id": "c46e7bda-c663-48a2-a3a6-6f9bd458ee7b",
   "metadata": {},
   "source": [
    "Should look like:\n",
    "\n",
    "<img src=\"./imgs/wbimg2.png\" alt=\"wbimg2\" height=\"350px\">"
   ]
  },
  {
   "cell_type": "markdown",
   "id": "3b8e8b64-df3b-4541-90f3-fb2f03689e95",
   "metadata": {},
   "source": [
    "### Select on-shell Z in the 2μ2e final state"
   ]
  },
  {
   "cell_type": "markdown",
   "id": "cf4aa2f2-1ff4-49d3-b0e7-7744bd215597",
   "metadata": {},
   "source": [
    "In $H \\to ZZ$, one of the two $Z$ bosons will usually be close to its \"on-shell\" mass of 91 GeV."
   ]
  },
  {
   "cell_type": "code",
   "execution_count": 13,
   "id": "e93f3b1a-fa78-4bd1-be8a-7a662f296188",
   "metadata": {
    "tags": []
   },
   "outputs": [
    {
     "data": {
      "text/plain": [
       "91.1876"
      ]
     },
     "execution_count": 13,
     "metadata": {},
     "output_type": "execute_result"
    }
   ],
   "source": [
    "import particle\n",
    "import hepunits\n",
    "\n",
    "ZMASS = particle.Particle.findall(\"Z0\")[0].mass / hepunits.GeV\n",
    "ZMASS"
   ]
  },
  {
   "cell_type": "markdown",
   "id": "96f8a78c-cd42-4ff2-a9c8-0f30a95b7c7d",
   "metadata": {},
   "source": [
    "With a pair of muons,"
   ]
  },
  {
   "cell_type": "code",
   "execution_count": 14,
   "id": "20c4950b-e2f9-4c95-8c32-647ff4af226a",
   "metadata": {
    "tags": []
   },
   "outputs": [],
   "source": [
    "mu1, mu2 = ak.unzip(ak.cartesian((muons_plus, muons_minus)))\n",
    "e1, e2 = ak.unzip(ak.cartesian((electrons_plus, electrons_minus)))\n",
    "\n",
    "\n"
   ]
  },
  {
   "cell_type": "code",
   "execution_count": 15,
   "id": "b5a00ad5-88ab-4eaa-9dac-5a2b5b67cd2d",
   "metadata": {
    "scrolled": true,
    "tags": []
   },
   "outputs": [
    {
     "data": {
      "image/png": "[encoded data removed]",
      "text/plain": [
       "<Figure size 432x288 with 1 Axes>"
      ]
     },
     "metadata": {
      "needs_background": "light"
     },
     "output_type": "display_data"
    }
   ],
   "source": [
    "hist.Hist.new.Regular(100, 0, 150).Double().fill(ak.ravel((mu1 + mu2).mass)).plot();"
   ]
  },
  {
   "cell_type": "markdown",
   "id": "7e08bddd-feec-4a3b-b091-daa6a14b0862",
   "metadata": {},
   "source": [
    "We can construct a dimuon mass and compute the absolute distance between that and the on-shell mass of 91 GeV."
   ]
  },
  {
   "cell_type": "code",
   "execution_count": 16,
   "id": "42c8bcd5-a16b-4c37-98c2-40d0a1290377",
   "metadata": {
    "tags": []
   },
   "outputs": [
    {
     "data": {
      "text/plain": [
       "<Array [[1.7, 68.7], [], ... 88.2], [], []] type='299973 * var * float32'>"
      ]
     },
     "execution_count": 16,
     "metadata": {},
     "output_type": "execute_result"
    }
   ],
   "source": [
    "abs((mu1 + mu2).mass - ZMASS)"
   ]
  },
  {
   "cell_type": "code",
   "execution_count": 17,
   "id": "05df3466-9004-4807-b883-d160c9880cc9",
   "metadata": {
    "tags": []
   },
   "outputs": [
    {
     "data": {
      "text/plain": [
       "<Array [1.7, 68.7, 61.3, ... 88.8, 88.4, 88.2] type='272832 * float32'>"
      ]
     },
     "execution_count": 17,
     "metadata": {},
     "output_type": "execute_result"
    }
   ],
   "source": [
    "ak.ravel(abs((mu1 + mu2).mass - ZMASS))"
   ]
  },
  {
   "cell_type": "markdown",
   "id": "52b1a83f-0efd-4bc9-b7af-ab7bf06ef7c6",
   "metadata": {},
   "source": [
    "When this is close enough, maybe let's say 20 GeV, we can call a given dimuon pair to be \"on shell.\""
   ]
  },
  {
   "cell_type": "code",
   "execution_count": 18,
   "id": "e32e385b-0e83-4133-94fb-dc5e53517529",
   "metadata": {
    "tags": []
   },
   "outputs": [],
   "source": [
    "onshell_mumu = abs((mu1 + mu2).mass - ZMASS) < 20"
   ]
  },
  {
   "cell_type": "markdown",
   "id": "ccb3abb3-d1d9-4c7a-96f8-9bf5dccb27b4",
   "metadata": {},
   "source": [
    "The effect of this is a sharp cut-off in the Z mass distribution."
   ]
  },
  {
   "cell_type": "code",
   "execution_count": 19,
   "id": "9f76ae3f-fabc-4548-b913-ef4375532d5e",
   "metadata": {
    "tags": []
   },
   "outputs": [
    {
     "data": {
      "image/png": "[encoded data removed]",
      "text/plain": [
       "<Figure size 432x288 with 1 Axes>"
      ]
     },
     "metadata": {
      "needs_background": "light"
     },
     "output_type": "display_data"
    }
   ],
   "source": [
    "hist.Hist.new.Regular(100, 0, 150).Double().fill(ak.ravel((mu1 + mu2)[onshell_mumu].mass)).plot();"
   ]
  },
  {
   "cell_type": "markdown",
   "id": "39cb92c7-bfe9-48a6-a98d-ba28e012dbe9",
   "metadata": {},
   "source": [
    "**Exercise**\n",
    "\n",
    "**In this section, make another 2μ2e mass peak in which *either* the 2μ is on-shell *or* the 2e is on-shell.**\n",
    "\n",
    "(That's an \"inclusive or\": having both be close to 91 GeV is allowed.)\n",
    "\n",
    "**Hint:** You'll have to compute the Z mass constraint from muons and electrons in a 4-way Cartesian product, not just the 2 muons as in my example above.\n",
    "\n",
    "**Hint:** To make logical combinations of cuts, use `|` for \"or\" and `&` for \"and\". Also, put parentheses around any comparisons: e.g. `is_good & ((1 < x) | (x < 2))`.\n",
    "```"
   ]
  },
  {
   "cell_type": "code",
   "execution_count": 25,
   "id": "59f7a223",
   "metadata": {},
   "outputs": [
    {
     "name": "stdout",
     "output_type": "stream",
     "text": [
      "[[], [], [], [], [], [], [], [], [], [], ... [124], [], [], [], [], [], [], [], []]\n"
     ]
    },
    {
     "data": {
      "image/png": "[encoded data removed]",
      "text/plain": [
       "<Figure size 576x432 with 1 Axes>"
      ]
     },
     "metadata": {
      "needs_background": "light"
     },
     "output_type": "display_data"
    }
   ],
   "source": [
    "mu1, mu2, e1,e2  = ak.unzip(ak.cartesian((muons_plus, muons_minus,electrons_plus,electrons_minus)))\n",
    "onshell_ee = abs((e1 + e2).mass - ZMASS) < 20\n",
    "onshell_mumu = abs((mu1 + mu2).mass - ZMASS) < 20\n",
    "\n",
    "quads = mu1+mu2+e1+e2\n",
    "\n",
    "shell_combos= onshell_mumu | onshell_ee\n",
    "\n",
    "sel_lep4= quads[shell_combos]\n",
    "\n",
    "print(sel_lep4.mass) \n",
    "# m1,m2,e1,e2= ak.unzip(sel_lep4)\n",
    "# hgs=m1+m2+e1+e2\n",
    "\n",
    "\n",
    "# Plot the invariant mass distribution of selected Higgs candidates\n",
    "higgs_mass_hist = hist.Hist.new.Reg(100, 0, 300, name=\"mass\", label=\"4l invariant mass (GeV)\").Double()\n",
    "higgs_mass_hist.fill(ak.ravel(sel_lep4.mass))\n",
    "\n",
    "fig, ax = plt.subplots(figsize=(8, 6))\n",
    "higgs_mass_hist.plot(ax=ax)\n",
    "ax.set_title(\"Higgs Mass Peak with On-shell Z in 2μ2e Final State\")\n",
    "ax.grid(True)\n",
    "plt.show()"
   ]
  },
  {
   "cell_type": "markdown",
   "id": "28b080bd-e4f0-4e13-8148-0037135e6fd6",
   "metadata": {},
   "source": [
    "Should look like:\n",
    "\n",
    "<img src=\"./imgs/wbimg3.png\" alt=\"wbimg3\" height=\"350px\">"
   ]
  },
  {
   "cell_type": "markdown",
   "id": "f1faf562-443f-4bc7-b818-6dcca73f0cc7",
   "metadata": {},
   "source": [
    "## Select on-shell Z in the 4μ final state"
   ]
  },
  {
   "cell_type": "markdown",
   "id": "a4fe776d-42e8-4b9c-83b4-81542ca498ae",
   "metadata": {},
   "source": [
    "Addressing Z boson properties in the 2$\\mu$2$e$ case is easier than in the 4$\\mu$ or 4$e$ cases because with each ($\\mu^+$, $\\mu^-$, $e^+$, $e^-$) quad-tuple, there is only one way to identify each of the two $Z$ bosons: $Z_{\\mu\\mu}\\to\\mu^+\\mu^-$ and $Z_{ee}\\to e^+e^-$. In a same-flavor final state, you have quad-tuples like ($\\mu^+_1$, $\\mu^-_1$, $\\mu^+_2$, $\\mu^-_2$).\n",
    "\n",
    "The possible decays are\n",
    "\n",
    "   * $Z_{11} \\to \\mu^+_1\\mu^-_1$ and $Z_{22}\\to \\mu^+_2,\\mu^-_2$\n",
    "   * $Z_{12} \\to \\mu^+_1\\mu^-_2$ and $Z_{21}\\to \\mu^+_2,\\mu^-_1$\n",
    "\n",
    "and within each of the two possibilities, only one of the Z bosons will be on-shell. (The Higgs doesn't have enough mass for both to be on-shell.)\n",
    "\n",
    "To apply Z cuts in this case, we need to apply a combinatoric primitive to the result of a combinatoric primitive: nested combinatorics. First, from the `muons_plus` collection, we draw two distinct muons and call them `muplus1` and `muplus2`. Then, from the `muons_minus` collection, we draw two distinct muons and call them `muminus1` and `muminus2`."
   ]
  },
  {
   "cell_type": "code",
   "execution_count": 26,
   "id": "9207b225-c36a-4779-a4c3-e0dc1687af09",
   "metadata": {
    "tags": []
   },
   "outputs": [],
   "source": [
    "muplus1, muplus2 = ak.unzip(ak.combinations(muons_plus, 2))\n",
    "muminus1, muminus2 = ak.unzip(ak.combinations(muons_minus, 2))"
   ]
  },
  {
   "cell_type": "markdown",
   "id": "2a1cca0e-1aa3-4314-af38-20e398a66230",
   "metadata": {},
   "source": [
    "Next, we need to find pairwise Cartesian products of each opposite-charge combination:\n",
    "\n",
    "   * pairs of `muplus1 ⊗ muminus1`, which can be labeled \"11\"\n",
    "   * pairs of `muplus1 ⊗ muminus2`, which can be labeled \"12\"\n",
    "   * pairs of `muplus2 ⊗ muminus1`, which can be labeled \"21\"\n",
    "   * pairs of `muplus2 ⊗ muminus2`, which can be labeled \"22\"\n",
    "\n",
    "Note that every real combination will either be a \"11\" and \"22\" or it will be a \"12\" and \"21\"."
   ]
  },
  {
   "cell_type": "code",
   "execution_count": 27,
   "id": "519b2504-fc44-49ed-9a63-0a95b27c1307",
   "metadata": {
    "tags": []
   },
   "outputs": [],
   "source": [
    "muplus11, muminus11 = ak.unzip(ak.cartesian((muplus1, muminus1)))\n",
    "muplus12, muminus12 = ak.unzip(ak.cartesian((muplus1, muminus2)))\n",
    "muplus21, muminus21 = ak.unzip(ak.cartesian((muplus2, muminus1)))\n",
    "muplus22, muminus22 = ak.unzip(ak.cartesian((muplus2, muminus2)))"
   ]
  },
  {
   "cell_type": "markdown",
   "id": "5a524653-282e-4f9b-903b-da46194599f4",
   "metadata": {},
   "source": [
    "By construction each of these four collections has the same number of items in each event."
   ]
  },
  {
   "cell_type": "code",
   "execution_count": 28,
   "id": "0770c35d-172f-4fdf-ae9a-954ef3ff6564",
   "metadata": {
    "tags": []
   },
   "outputs": [
    {
     "data": {
      "text/plain": [
       "(<Array [0, 0, 0, 18, 0, 0, ... 0, 0, 0, 0, 0] type='299973 * int64'>,\n",
       " <Array [0, 0, 0, 18, 0, 0, ... 0, 0, 0, 0, 0] type='299973 * int64'>,\n",
       " <Array [0, 0, 0, 18, 0, 0, ... 0, 0, 0, 0, 0] type='299973 * int64'>,\n",
       " <Array [0, 0, 0, 18, 0, 0, ... 0, 0, 0, 0, 0] type='299973 * int64'>)"
      ]
     },
     "execution_count": 28,
     "metadata": {},
     "output_type": "execute_result"
    }
   ],
   "source": [
    "ak.num(muplus11), ak.num(muplus12), ak.num(muplus21), ak.num(muplus22)"
   ]
  },
  {
   "cell_type": "code",
   "execution_count": 29,
   "id": "5fda22ac-bab1-494d-9f6b-c181eabdd9ae",
   "metadata": {
    "tags": []
   },
   "outputs": [
    {
     "data": {
      "text/plain": [
       "True"
      ]
     },
     "execution_count": 29,
     "metadata": {},
     "output_type": "execute_result"
    }
   ],
   "source": [
    "ak.all((ak.num(muplus11) == ak.num(muplus12)) & (ak.num(muplus21) == ak.num(muplus22)) & (ak.num(muplus11) == ak.num(muplus22)))"
   ]
  },
  {
   "cell_type": "markdown",
   "id": "4f762d7c-eb9a-4458-9f78-da7a435b977d",
   "metadata": {},
   "source": [
    "We can look at the four possible Z bosons individually.\n",
    "\n",
    "First the \"11\" and \"22\":"
   ]
  },
  {
   "cell_type": "code",
   "execution_count": 30,
   "id": "68c6e0bd-9490-4881-b23f-9231ab7b6487",
   "metadata": {
    "tags": []
   },
   "outputs": [
    {
     "data": {
      "image/png": "[encoded data removed]",
      "text/plain": [
       "<Figure size 432x288 with 1 Axes>"
      ]
     },
     "metadata": {
      "needs_background": "light"
     },
     "output_type": "display_data"
    }
   ],
   "source": [
    "hist.Hist.new.Regular(100, 0, 150).Double().fill(ak.ravel((muplus11 + muminus11).mass)).plot();"
   ]
  },
  {
   "cell_type": "code",
   "execution_count": 31,
   "id": "e67ca40d-b011-4dc2-b568-bd2fa26c5c9d",
   "metadata": {
    "tags": []
   },
   "outputs": [
    {
     "data": {
      "image/png": "[encoded data removed]",
      "text/plain": [
       "<Figure size 432x288 with 1 Axes>"
      ]
     },
     "metadata": {
      "needs_background": "light"
     },
     "output_type": "display_data"
    }
   ],
   "source": [
    "hist.Hist.new.Regular(100, 0, 150).Double().fill(ak.ravel((muplus22 + muminus22).mass)).plot();"
   ]
  },
  {
   "cell_type": "markdown",
   "id": "03f5cd5c-d291-42e4-8347-4daddb466d8f",
   "metadata": {},
   "source": [
    "Now the \"12\" and \"21\":"
   ]
  },
  {
   "cell_type": "code",
   "execution_count": 32,
   "id": "1e191756-2743-49c3-8338-f41c2c9317f0",
   "metadata": {
    "tags": []
   },
   "outputs": [
    {
     "data": {
      "image/png": "[encoded data removed]",
      "text/plain": [
       "<Figure size 432x288 with 1 Axes>"
      ]
     },
     "metadata": {
      "needs_background": "light"
     },
     "output_type": "display_data"
    }
   ],
   "source": [
    "hist.Hist.new.Regular(100, 0, 150).Double().fill(ak.ravel((muplus12 + muminus12).mass)).plot();"
   ]
  },
  {
   "cell_type": "code",
   "execution_count": 33,
   "id": "b75ce982-98cb-4591-8e44-98ded896c08f",
   "metadata": {
    "tags": []
   },
   "outputs": [
    {
     "data": {
      "image/png": "[encoded data removed]",
      "text/plain": [
       "<Figure size 432x288 with 1 Axes>"
      ]
     },
     "metadata": {
      "needs_background": "light"
     },
     "output_type": "display_data"
    }
   ],
   "source": [
    "hist.Hist.new.Regular(100, 0, 150).Double().fill(ak.ravel((muplus21 + muminus21).mass)).plot();"
   ]
  },
  {
   "cell_type": "markdown",
   "id": "6b4eceb9-6800-490e-9625-29f0991186ea",
   "metadata": {},
   "source": [
    "They all have large backgrounds because they're often not the right combination.\n",
    "\n",
    "Now we'll make distances as we did in the previous section."
   ]
  },
  {
   "cell_type": "code",
   "execution_count": 34,
   "id": "f57f6cd1-c14e-4870-aa3e-b319cf544f9e",
   "metadata": {
    "tags": []
   },
   "outputs": [],
   "source": [
    "dist11 = abs((muplus11 + muminus11).mass - ZMASS)\n",
    "dist12 = abs((muplus12 + muminus12).mass - ZMASS)\n",
    "dist21 = abs((muplus21 + muminus21).mass - ZMASS)\n",
    "dist22 = abs((muplus22 + muminus22).mass - ZMASS)"
   ]
  },
  {
   "cell_type": "markdown",
   "id": "09d20609-1ae4-404f-982b-0c42e39ff94a",
   "metadata": {},
   "source": [
    "Because we have so many possibilities, let's define cuts like `onshell_11` to mean \"11 is the closest to being on-shell.\"\n",
    "\n",
    "That doesn't mean it's within 20 GeV of 91 GeV; it just means that it's closer than the others.\n",
    "\n",
    "(The organization of the cuts is as follows: for each \"11\", \"12\", \"21\", \"22\", the relevant `dist` is to the left of `<` in all comparisons, and the three other `dist` values it's being compared to are every other \"11\", \"12\", \"21\", \"22\" combination.)"
   ]
  },
  {
   "cell_type": "code",
   "execution_count": 35,
   "id": "187f1b3a-a179-4193-badf-4d6690faef50",
   "metadata": {
    "tags": []
   },
   "outputs": [],
   "source": [
    "onshell_11 = (dist11 < dist12) & (dist11 < dist21) & (dist11 < dist22)\n",
    "onshell_12 = (dist12 < dist11) & (dist12 < dist21) & (dist12 < dist22)\n",
    "onshell_21 = (dist21 < dist11) & (dist21 < dist12) & (dist21 < dist22)\n",
    "onshell_22 = (dist22 < dist11) & (dist22 < dist12) & (dist22 < dist21)"
   ]
  },
  {
   "cell_type": "markdown",
   "id": "ad4e1a94-ed5d-4a2c-bf6e-fb8dfe35b287",
   "metadata": {},
   "source": [
    "Now let's look at a $Z\\to 2\\mu$ mass plot of \"11\" in which \"11\" is the closest to being on-shell.\n",
    "\n",
    "Naturally, there's a more pronounced peak."
   ]
  },
  {
   "cell_type": "code",
   "execution_count": 36,
   "id": "4f7e3a39-8686-4224-9eea-530233644d8c",
   "metadata": {
    "tags": []
   },
   "outputs": [
    {
     "data": {
      "image/png": "[encoded data removed]",
      "text/plain": [
       "<Figure size 432x288 with 1 Axes>"
      ]
     },
     "metadata": {
      "needs_background": "light"
     },
     "output_type": "display_data"
    }
   ],
   "source": [
    "h = hist.Hist.new.Regular(100, 0, 150).Double()\n",
    "\n",
    "h.fill(ak.ravel((muplus11 + muminus11)[onshell_11].mass))\n",
    "\n",
    "h.plot();"
   ]
  },
  {
   "cell_type": "markdown",
   "id": "29fcb624-41fe-472a-9453-326454074598",
   "metadata": {},
   "source": [
    "Now let's look at $H \\to ZZ\\to 4\\mu$ for\n",
    "\n",
    "   * \"11\" and \"22\" if \"11\" is on-shell or \"22\" is on-shell\n",
    "   * \"12\" and \"21\" if \"12\" is on-shell or \"21\" is on-shell"
   ]
  },
  {
   "cell_type": "code",
   "execution_count": 37,
   "id": "393ecd62-7e6e-4710-af68-4e14274517b0",
   "metadata": {
    "tags": []
   },
   "outputs": [
    {
     "data": {
      "image/png": "[encoded data removed]",
      "text/plain": [
       "<Figure size 432x288 with 1 Axes>"
      ]
     },
     "metadata": {
      "needs_background": "light"
     },
     "output_type": "display_data"
    }
   ],
   "source": [
    "h = hist.Hist.new.Regular(100, 0, 150).Double()\n",
    "\n",
    "h.fill(ak.ravel((muplus11 + muminus11 + muplus22 + muminus22)[onshell_11 | onshell_22].mass))\n",
    "h.fill(ak.ravel((muplus12 + muminus21 + muplus12 + muminus21)[onshell_12 | onshell_21].mass))\n",
    "\n",
    "h.plot();"
   ]
  },
  {
   "cell_type": "markdown",
   "id": "4a968eff-2520-45c4-b553-021b69433886",
   "metadata": {},
   "source": [
    "To go further and require \"11\" to be within 20 GeV of 91 GeV when it's already the closest to it would be a cut like the following:"
   ]
  },
  {
   "cell_type": "code",
   "execution_count": 38,
   "id": "24a9a70e-9082-4717-ad5c-e57dc1f6fa14",
   "metadata": {
    "tags": []
   },
   "outputs": [
    {
     "data": {
      "text/plain": [
       "<Array [[], [], [], [False, ... [], [], [], []] type='299973 * var * bool'>"
      ]
     },
     "execution_count": 38,
     "metadata": {},
     "output_type": "execute_result"
    }
   ],
   "source": [
    "onshell_11 & (dist11 < 20)"
   ]
  },
  {
   "cell_type": "markdown",
   "id": "ac0e3f8d-ad8a-4673-aab6-03e5e02d47f2",
   "metadata": {},
   "source": [
    "**Exercise**\n",
    "\n",
    "**Now re-make the above plot, but require whichever muon pair is closest to being on-shell to be within 20 GeV of it.**\n"
   ]
  },
  {
   "cell_type": "code",
   "execution_count": 39,
   "id": "6ffe5497",
   "metadata": {},
   "outputs": [
    {
     "data": {
      "text/plain": [
       "[StairsArtists(stairs=<matplotlib.patches.StepPatch object at 0x7f16acb6de80>, errorbar=<ErrorbarContainer object of 3 artists>, legend_artist=<ErrorbarContainer object of 3 artists>)]"
      ]
     },
     "execution_count": 39,
     "metadata": {},
     "output_type": "execute_result"
    },
    {
     "data": {
      "image/png": "[encoded data removed]",
      "text/plain": [
       "<Figure size 432x288 with 1 Axes>"
      ]
     },
     "metadata": {
      "needs_background": "light"
     },
     "output_type": "display_data"
    }
   ],
   "source": [
    "closest_onshell_11 = onshell_11 & (dist11 < 20)\n",
    "closest_onshell_12 = onshell_12 & (dist12 < 20)\n",
    "closest_onshell_21 = onshell_21 & (dist21 < 20)\n",
    "closest_onshell_22 = onshell_22 & (dist22 < 20)\n",
    "\n",
    "h = hist.Hist.new.Regular(100, 0, 150).Double()\n",
    "\n",
    "h.fill(ak.ravel((muplus11 + muminus11 + muplus22 + muminus22)[closest_onshell_11].mass))\n",
    "h.fill(ak.ravel((muplus12 + muminus21 + muplus12 + muminus21)[closest_onshell_12].mass))\n",
    "h.fill(ak.ravel((muplus21 + muminus12 + muplus21 + muminus12)[closest_onshell_21].mass))\n",
    "h.fill(ak.ravel((muplus22 + muminus11 + muplus22 + muminus11)[closest_onshell_22].mass))\n",
    "\n",
    "h.plot()"
   ]
  },
  {
   "cell_type": "markdown",
   "id": "ce1f95fc-b135-4b02-9165-a6d8d31b5cff",
   "metadata": {},
   "source": [
    "Should look like:\n",
    "\n",
    "<img src=\"./imgs/wbimg4.png\" alt=\"wbimg4\" height=\"350px\">\n",
    "\n",
    "(And compare that to the 4 muon mass without any Z mass constraints!)"
   ]
  },
  {
   "cell_type": "markdown",
   "id": "2ecc0cef-833f-4be0-ba38-d848b18a480e",
   "metadata": {},
   "source": [
    "### Commentary"
   ]
  },
  {
   "cell_type": "markdown",
   "id": "afd8710b-0a0a-414e-8fc5-fa2cd407c30a",
   "metadata": {},
   "source": [
    "Dealing with combinatorics is complex, but by reducing the single μ collection into a μ⁺ collection and a μ⁻ collection, it becomes easier (and more memory efficient) to consider all combinations without having to apply charge constraints after the fact.\n",
    "\n",
    "Objects like `muplus11`, representing the μ⁺ in all \"11\" combinations, can be dealt with like scalars, like the single \"11\" μ⁺ inside a nested loop over combinations in imperative programming. (No array-length changing operations were performed after the two [ak.combinations](https://awkward-array.readthedocs.io/en/latest/_auto/ak.combinations.html), [ak.cartesian](https://awkward-array.readthedocs.io/en/latest/_auto/ak.cartesian.html) steps in the last section.)\n",
    "\n",
    "But because the `muplus11` object represents the μ⁺ in _all_ \"11\" combinations, we can plot distributions of what we're computing at every step, rather than just once at the end of a script, which is great for debugging.\n",
    "\n",
    "That's the value of array-oriented programming—the ability to look at _distributions_ of each step while you develop the script—if you take advantage of that opportunity."
   ]
  }
 ],
 "metadata": {
  "kernelspec": {
   "display_name": "Python 3 (ipykernel)",
   "language": "python",
   "name": "python3"
  },
  "language_info": {
   "codemirror_mode": {
    "name": "ipython",
    "version": 3
   },
   "file_extension": ".py",
   "mimetype": "text/x-python",
   "name": "python",
   "nbconvert_exporter": "python",
   "pygments_lexer": "ipython3",
   "version": "3.9.12"
  }
 },
 "nbformat": 4,
 "nbformat_minor": 5
}
