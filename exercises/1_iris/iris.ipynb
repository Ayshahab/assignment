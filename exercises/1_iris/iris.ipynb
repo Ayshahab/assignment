{
 "cells": [
  {
   "cell_type": "markdown",
   "metadata": {},
   "source": [
    "# Iris Dataset Analysis"
   ]
  },
  {
   "cell_type": "markdown",
   "metadata": {},
   "source": [
    "## Prepare the dataset"
   ]
  },
  {
   "cell_type": "markdown",
   "metadata": {},
   "source": [
    "Use `numpy` or to load `data/iris.data`. Remember to look at the file contents to understand the data format."
   ]
  },
  {
   "cell_type": "code",
   "execution_count": 1,
   "metadata": {},
   "outputs": [],
   "source": [
    "import numpy as np\n",
    "import matplotlib.pyplot as plt\n",
    "\n",
    "data = np.genfromtxt(\"data/iris.data\",delimiter=\",\", dtype=None, encoding=None)\n",
    "atts= np.genfromtxt(\"data/iris.attributes\",delimiter=\",\", dtype=None, encoding=None)\n",
    "classes=np.genfromtxt(\"data/iris.classes\",delimiter=\",\", dtype=None, encoding=None)\n"
   ]
  },
  {
   "cell_type": "code",
   "execution_count": 2,
   "metadata": {},
   "outputs": [
    {
     "name": "stdout",
     "output_type": "stream",
     "text": [
      "(5.1, 3.5, 1.4, 0.2, 'Iris-setosa')\n",
      "5.1\n",
      "[(5.1, 3.5, 1.4, 0.2, 'Iris-setosa') (4.9, 3. , 1.4, 0.2, 'Iris-setosa')\n",
      " (4.7, 3.2, 1.3, 0.2, 'Iris-setosa') (4.6, 3.1, 1.5, 0.2, 'Iris-setosa')\n",
      " (5. , 3.6, 1.4, 0.2, 'Iris-setosa') (5.4, 3.9, 1.7, 0.4, 'Iris-setosa')\n",
      " (4.6, 3.4, 1.4, 0.3, 'Iris-setosa') (5. , 3.4, 1.5, 0.2, 'Iris-setosa')\n",
      " (4.4, 2.9, 1.4, 0.2, 'Iris-setosa') (4.9, 3.1, 1.5, 0.1, 'Iris-setosa')\n",
      " (5.4, 3.7, 1.5, 0.2, 'Iris-setosa') (4.8, 3.4, 1.6, 0.2, 'Iris-setosa')\n",
      " (4.8, 3. , 1.4, 0.1, 'Iris-setosa') (4.3, 3. , 1.1, 0.1, 'Iris-setosa')\n",
      " (5.8, 4. , 1.2, 0.2, 'Iris-setosa') (5.7, 4.4, 1.5, 0.4, 'Iris-setosa')\n",
      " (5.4, 3.9, 1.3, 0.4, 'Iris-setosa') (5.1, 3.5, 1.4, 0.3, 'Iris-setosa')\n",
      " (5.7, 3.8, 1.7, 0.3, 'Iris-setosa') (5.1, 3.8, 1.5, 0.3, 'Iris-setosa')\n",
      " (5.4, 3.4, 1.7, 0.2, 'Iris-setosa') (5.1, 3.7, 1.5, 0.4, 'Iris-setosa')\n",
      " (4.6, 3.6, 1. , 0.2, 'Iris-setosa') (5.1, 3.3, 1.7, 0.5, 'Iris-setosa')\n",
      " (4.8, 3.4, 1.9, 0.2, 'Iris-setosa') (5. , 3. , 1.6, 0.2, 'Iris-setosa')\n",
      " (5. , 3.4, 1.6, 0.4, 'Iris-setosa') (5.2, 3.5, 1.5, 0.2, 'Iris-setosa')\n",
      " (5.2, 3.4, 1.4, 0.2, 'Iris-setosa') (4.7, 3.2, 1.6, 0.2, 'Iris-setosa')\n",
      " (4.8, 3.1, 1.6, 0.2, 'Iris-setosa') (5.4, 3.4, 1.5, 0.4, 'Iris-setosa')\n",
      " (5.2, 4.1, 1.5, 0.1, 'Iris-setosa') (5.5, 4.2, 1.4, 0.2, 'Iris-setosa')\n",
      " (4.9, 3.1, 1.5, 0.1, 'Iris-setosa') (5. , 3.2, 1.2, 0.2, 'Iris-setosa')\n",
      " (5.5, 3.5, 1.3, 0.2, 'Iris-setosa') (4.9, 3.1, 1.5, 0.1, 'Iris-setosa')\n",
      " (4.4, 3. , 1.3, 0.2, 'Iris-setosa') (5.1, 3.4, 1.5, 0.2, 'Iris-setosa')\n",
      " (5. , 3.5, 1.3, 0.3, 'Iris-setosa') (4.5, 2.3, 1.3, 0.3, 'Iris-setosa')\n",
      " (4.4, 3.2, 1.3, 0.2, 'Iris-setosa') (5. , 3.5, 1.6, 0.6, 'Iris-setosa')\n",
      " (5.1, 3.8, 1.9, 0.4, 'Iris-setosa') (4.8, 3. , 1.4, 0.3, 'Iris-setosa')\n",
      " (5.1, 3.8, 1.6, 0.2, 'Iris-setosa') (4.6, 3.2, 1.4, 0.2, 'Iris-setosa')\n",
      " (5.3, 3.7, 1.5, 0.2, 'Iris-setosa') (5. , 3.3, 1.4, 0.2, 'Iris-setosa')\n",
      " (7. , 3.2, 4.7, 1.4, 'Iris-versicolor')\n",
      " (6.4, 3.2, 4.5, 1.5, 'Iris-versicolor')\n",
      " (6.9, 3.1, 4.9, 1.5, 'Iris-versicolor')\n",
      " (5.5, 2.3, 4. , 1.3, 'Iris-versicolor')\n",
      " (6.5, 2.8, 4.6, 1.5, 'Iris-versicolor')\n",
      " (5.7, 2.8, 4.5, 1.3, 'Iris-versicolor')\n",
      " (6.3, 3.3, 4.7, 1.6, 'Iris-versicolor')\n",
      " (4.9, 2.4, 3.3, 1. , 'Iris-versicolor')\n",
      " (6.6, 2.9, 4.6, 1.3, 'Iris-versicolor')\n",
      " (5.2, 2.7, 3.9, 1.4, 'Iris-versicolor')\n",
      " (5. , 2. , 3.5, 1. , 'Iris-versicolor')\n",
      " (5.9, 3. , 4.2, 1.5, 'Iris-versicolor')\n",
      " (6. , 2.2, 4. , 1. , 'Iris-versicolor')\n",
      " (6.1, 2.9, 4.7, 1.4, 'Iris-versicolor')\n",
      " (5.6, 2.9, 3.6, 1.3, 'Iris-versicolor')\n",
      " (6.7, 3.1, 4.4, 1.4, 'Iris-versicolor')\n",
      " (5.6, 3. , 4.5, 1.5, 'Iris-versicolor')\n",
      " (5.8, 2.7, 4.1, 1. , 'Iris-versicolor')\n",
      " (6.2, 2.2, 4.5, 1.5, 'Iris-versicolor')\n",
      " (5.6, 2.5, 3.9, 1.1, 'Iris-versicolor')\n",
      " (5.9, 3.2, 4.8, 1.8, 'Iris-versicolor')\n",
      " (6.1, 2.8, 4. , 1.3, 'Iris-versicolor')\n",
      " (6.3, 2.5, 4.9, 1.5, 'Iris-versicolor')\n",
      " (6.1, 2.8, 4.7, 1.2, 'Iris-versicolor')\n",
      " (6.4, 2.9, 4.3, 1.3, 'Iris-versicolor')\n",
      " (6.6, 3. , 4.4, 1.4, 'Iris-versicolor')\n",
      " (6.8, 2.8, 4.8, 1.4, 'Iris-versicolor')\n",
      " (6.7, 3. , 5. , 1.7, 'Iris-versicolor')\n",
      " (6. , 2.9, 4.5, 1.5, 'Iris-versicolor')\n",
      " (5.7, 2.6, 3.5, 1. , 'Iris-versicolor')\n",
      " (5.5, 2.4, 3.8, 1.1, 'Iris-versicolor')\n",
      " (5.5, 2.4, 3.7, 1. , 'Iris-versicolor')\n",
      " (5.8, 2.7, 3.9, 1.2, 'Iris-versicolor')\n",
      " (6. , 2.7, 5.1, 1.6, 'Iris-versicolor')\n",
      " (5.4, 3. , 4.5, 1.5, 'Iris-versicolor')\n",
      " (6. , 3.4, 4.5, 1.6, 'Iris-versicolor')\n",
      " (6.7, 3.1, 4.7, 1.5, 'Iris-versicolor')\n",
      " (6.3, 2.3, 4.4, 1.3, 'Iris-versicolor')\n",
      " (5.6, 3. , 4.1, 1.3, 'Iris-versicolor')\n",
      " (5.5, 2.5, 4. , 1.3, 'Iris-versicolor')\n",
      " (5.5, 2.6, 4.4, 1.2, 'Iris-versicolor')\n",
      " (6.1, 3. , 4.6, 1.4, 'Iris-versicolor')\n",
      " (5.8, 2.6, 4. , 1.2, 'Iris-versicolor')\n",
      " (5. , 2.3, 3.3, 1. , 'Iris-versicolor')\n",
      " (5.6, 2.7, 4.2, 1.3, 'Iris-versicolor')\n",
      " (5.7, 3. , 4.2, 1.2, 'Iris-versicolor')\n",
      " (5.7, 2.9, 4.2, 1.3, 'Iris-versicolor')\n",
      " (6.2, 2.9, 4.3, 1.3, 'Iris-versicolor')\n",
      " (5.1, 2.5, 3. , 1.1, 'Iris-versicolor')\n",
      " (5.7, 2.8, 4.1, 1.3, 'Iris-versicolor')\n",
      " (6.3, 3.3, 6. , 2.5, 'Iris-virginica')\n",
      " (5.8, 2.7, 5.1, 1.9, 'Iris-virginica')\n",
      " (7.1, 3. , 5.9, 2.1, 'Iris-virginica')\n",
      " (6.3, 2.9, 5.6, 1.8, 'Iris-virginica')\n",
      " (6.5, 3. , 5.8, 2.2, 'Iris-virginica')\n",
      " (7.6, 3. , 6.6, 2.1, 'Iris-virginica')\n",
      " (4.9, 2.5, 4.5, 1.7, 'Iris-virginica')\n",
      " (7.3, 2.9, 6.3, 1.8, 'Iris-virginica')\n",
      " (6.7, 2.5, 5.8, 1.8, 'Iris-virginica')\n",
      " (7.2, 3.6, 6.1, 2.5, 'Iris-virginica')\n",
      " (6.5, 3.2, 5.1, 2. , 'Iris-virginica')\n",
      " (6.4, 2.7, 5.3, 1.9, 'Iris-virginica')\n",
      " (6.8, 3. , 5.5, 2.1, 'Iris-virginica')\n",
      " (5.7, 2.5, 5. , 2. , 'Iris-virginica')\n",
      " (5.8, 2.8, 5.1, 2.4, 'Iris-virginica')\n",
      " (6.4, 3.2, 5.3, 2.3, 'Iris-virginica')\n",
      " (6.5, 3. , 5.5, 1.8, 'Iris-virginica')\n",
      " (7.7, 3.8, 6.7, 2.2, 'Iris-virginica')\n",
      " (7.7, 2.6, 6.9, 2.3, 'Iris-virginica')\n",
      " (6. , 2.2, 5. , 1.5, 'Iris-virginica')\n",
      " (6.9, 3.2, 5.7, 2.3, 'Iris-virginica')\n",
      " (5.6, 2.8, 4.9, 2. , 'Iris-virginica')\n",
      " (7.7, 2.8, 6.7, 2. , 'Iris-virginica')\n",
      " (6.3, 2.7, 4.9, 1.8, 'Iris-virginica')\n",
      " (6.7, 3.3, 5.7, 2.1, 'Iris-virginica')\n",
      " (7.2, 3.2, 6. , 1.8, 'Iris-virginica')\n",
      " (6.2, 2.8, 4.8, 1.8, 'Iris-virginica')\n",
      " (6.1, 3. , 4.9, 1.8, 'Iris-virginica')\n",
      " (6.4, 2.8, 5.6, 2.1, 'Iris-virginica')\n",
      " (7.2, 3. , 5.8, 1.6, 'Iris-virginica')\n",
      " (7.4, 2.8, 6.1, 1.9, 'Iris-virginica')\n",
      " (7.9, 3.8, 6.4, 2. , 'Iris-virginica')\n",
      " (6.4, 2.8, 5.6, 2.2, 'Iris-virginica')\n",
      " (6.3, 2.8, 5.1, 1.5, 'Iris-virginica')\n",
      " (6.1, 2.6, 5.6, 1.4, 'Iris-virginica')\n",
      " (7.7, 3. , 6.1, 2.3, 'Iris-virginica')\n",
      " (6.3, 3.4, 5.6, 2.4, 'Iris-virginica')\n",
      " (6.4, 3.1, 5.5, 1.8, 'Iris-virginica')\n",
      " (6. , 3. , 4.8, 1.8, 'Iris-virginica')\n",
      " (6.9, 3.1, 5.4, 2.1, 'Iris-virginica')\n",
      " (6.7, 3.1, 5.6, 2.4, 'Iris-virginica')\n",
      " (6.9, 3.1, 5.1, 2.3, 'Iris-virginica')\n",
      " (5.8, 2.7, 5.1, 1.9, 'Iris-virginica')\n",
      " (6.8, 3.2, 5.9, 2.3, 'Iris-virginica')\n",
      " (6.7, 3.3, 5.7, 2.5, 'Iris-virginica')\n",
      " (6.7, 3. , 5.2, 2.3, 'Iris-virginica')\n",
      " (6.3, 2.5, 5. , 1.9, 'Iris-virginica')\n",
      " (6.5, 3. , 5.2, 2. , 'Iris-virginica')\n",
      " (6.2, 3.4, 5.4, 2.3, 'Iris-virginica')\n",
      " (5.9, 3. , 5.1, 1.8, 'Iris-virginica')]\n"
     ]
    }
   ],
   "source": [
    "print(data[0])\n",
    "\n",
    "print(data[0][0])\n",
    "print(data)"
   ]
  },
  {
   "cell_type": "markdown",
   "metadata": {},
   "source": [
    "Create a map that returns the attribute name given the attribute index.\n",
    "\n",
    "- 0 -> sepal length\n",
    "- 1 -> sepal width\n",
    "- 2 -> petal length\n",
    "- 3 -> petal width"
   ]
  },
  {
   "cell_type": "code",
   "execution_count": 3,
   "metadata": {},
   "outputs": [],
   "source": [
    "a_dict={0:\"sepal length\", 1:\"sepal width\",2:\"petal length\",3:\"petal width\"}\n",
    "\n",
    "\n"
   ]
  },
  {
   "cell_type": "markdown",
   "metadata": {},
   "source": [
    "## Data analysis"
   ]
  },
  {
   "cell_type": "markdown",
   "metadata": {},
   "source": [
    "Write a function that prints the mean and another that prints the standard deviation of each attribute."
   ]
  },
  {
   "cell_type": "code",
   "execution_count": 4,
   "metadata": {},
   "outputs": [],
   "source": [
    "\n",
    "def mean_val(clss):\n",
    "    means=[]\n",
    "    for index in range(0,4):\n",
    "        total=[]\n",
    "        for i in range(len(data)):\n",
    "            if data[i][4]==clss:\n",
    "                total.append(data[i][index])\n",
    "        mean= round(np.mean(total),3)\n",
    "        means.append(mean)\n",
    "    for x,y in zip(a_dict.values(),means):\n",
    "        print(f\"the mean value of {x} in {clss} is {y} \")\n",
    "    return means\n",
    "    \n",
    "\n",
    "\n",
    "def std_val(clss):\n",
    "    stds=[]\n",
    "    for index in range(0,4):\n",
    "        total=[]\n",
    "        for i in range(len(data)):\n",
    "            if data[i][4]==clss:\n",
    "                total.append(data[i][index])\n",
    "        std= round(np.std(total),3)\n",
    "        stds.append(std)\n",
    "    for x,y in zip(a_dict.values(),stds):\n",
    "        print(f\"the standard deviation of {x} in {clss} is {y} \")\n",
    "    return stds       \n"
   ]
  },
  {
   "cell_type": "code",
   "execution_count": 5,
   "metadata": {},
   "outputs": [
    {
     "name": "stdout",
     "output_type": "stream",
     "text": [
      "the mean value of sepal length in Iris-setosa is 5.006 \n",
      "the mean value of sepal width in Iris-setosa is 3.418 \n",
      "the mean value of petal length in Iris-setosa is 1.464 \n",
      "the mean value of petal width in Iris-setosa is 0.244 \n"
     ]
    },
    {
     "data": {
      "text/plain": [
       "[5.006, 3.418, 1.464, 0.244]"
      ]
     },
     "execution_count": 5,
     "metadata": {},
     "output_type": "execute_result"
    }
   ],
   "source": [
    "mean_val(\"Iris-setosa\")"
   ]
  },
  {
   "cell_type": "markdown",
   "metadata": {},
   "source": [
    "Use the functions you defined above to print the mean of the attributes for each class."
   ]
  },
  {
   "cell_type": "code",
   "execution_count": 6,
   "metadata": {},
   "outputs": [
    {
     "name": "stdout",
     "output_type": "stream",
     "text": [
      "the mean value of sepal length in Iris-setosa is 5.006 \n",
      "the mean value of sepal width in Iris-setosa is 3.418 \n",
      "the mean value of petal length in Iris-setosa is 1.464 \n",
      "the mean value of petal width in Iris-setosa is 0.244 \n",
      "the mean value of sepal length in Iris-versicolor is 5.936 \n",
      "the mean value of sepal width in Iris-versicolor is 2.77 \n",
      "the mean value of petal length in Iris-versicolor is 4.26 \n",
      "the mean value of petal width in Iris-versicolor is 1.326 \n",
      "the mean value of sepal length in Iris-virginica is 6.588 \n",
      "the mean value of sepal width in Iris-virginica is 2.974 \n",
      "the mean value of petal length in Iris-virginica is 5.552 \n",
      "the mean value of petal width in Iris-virginica is 2.026 \n"
     ]
    },
    {
     "data": {
      "text/plain": [
       "[[5.006, 3.418, 1.464, 0.244],\n",
       " [5.936, 2.77, 4.26, 1.326],\n",
       " [6.588, 2.974, 5.552, 2.026]]"
      ]
     },
     "execution_count": 6,
     "metadata": {},
     "output_type": "execute_result"
    }
   ],
   "source": [
    "mean_data=[mean_val(\"Iris-setosa\"),\n",
    "mean_val(\"Iris-versicolor\"),\n",
    "mean_val(\"Iris-virginica\")]\n",
    "\n",
    "\n",
    "mean_data"
   ]
  },
  {
   "cell_type": "code",
   "execution_count": 7,
   "metadata": {},
   "outputs": [
    {
     "name": "stdout",
     "output_type": "stream",
     "text": [
      "the standard deviation of sepal length in Iris-setosa is 0.349 \n",
      "the standard deviation of sepal width in Iris-setosa is 0.377 \n",
      "the standard deviation of petal length in Iris-setosa is 0.172 \n",
      "the standard deviation of petal width in Iris-setosa is 0.106 \n",
      "the standard deviation of sepal length in Iris-versicolor is 0.511 \n",
      "the standard deviation of sepal width in Iris-versicolor is 0.311 \n",
      "the standard deviation of petal length in Iris-versicolor is 0.465 \n",
      "the standard deviation of petal width in Iris-versicolor is 0.196 \n",
      "the standard deviation of sepal length in Iris-virginica is 0.629 \n",
      "the standard deviation of sepal width in Iris-virginica is 0.319 \n",
      "the standard deviation of petal length in Iris-virginica is 0.546 \n",
      "the standard deviation of petal width in Iris-virginica is 0.272 \n"
     ]
    },
    {
     "data": {
      "text/plain": [
       "[[0.349, 0.377, 0.172, 0.106],\n",
       " [0.511, 0.311, 0.465, 0.196],\n",
       " [0.629, 0.319, 0.546, 0.272]]"
      ]
     },
     "execution_count": 7,
     "metadata": {},
     "output_type": "execute_result"
    }
   ],
   "source": [
    "std_data=[std_val(\"Iris-setosa\"),\n",
    "std_val(\"Iris-versicolor\"),\n",
    "std_val(\"Iris-virginica\")]\n",
    "\n",
    "std_data"
   ]
  },
  {
   "cell_type": "code",
   "execution_count": 8,
   "metadata": {},
   "outputs": [
    {
     "name": "stdout",
     "output_type": "stream",
     "text": [
      "[0.349, 0.511, 0.629]\n"
     ]
    }
   ],
   "source": [
    "std_data[1][0]\n",
    "\n",
    "print( [row[0] for row in std_data])"
   ]
  },
  {
   "cell_type": "markdown",
   "metadata": {},
   "source": [
    "Now, let's plot this data. Use `matplotlib` to create scatter plots for petal and sepal. Use different colors for each class."
   ]
  },
  {
   "cell_type": "code",
   "execution_count": 17,
   "metadata": {},
   "outputs": [
    {
     "data": {
      "image/png": "[encoded data removed]",
      "text/plain": [
       "<Figure size 576x432 with 1 Axes>"
      ]
     },
     "metadata": {
      "needs_background": "light"
     },
     "output_type": "display_data"
    }
   ],
   "source": [
    "\n",
    "\n",
    "\n",
    "\n",
    "from matplotlib.lines import Line2D\n",
    "\n",
    "x = [row[0] for row in mean_data]  \n",
    "y = [row[2] for row in mean_data]  \n",
    "\n",
    "x2= [row[0] for row in std_data]  \n",
    "y2= [row[2] for row in std_data]\n",
    "\n",
    "classes = [\"Iris-setosa\", \"Iris-versicolor\",\"Iris-virginica\"]  \n",
    "colors=(\"red\", \"green\",\"blue\")\n",
    "\n",
    "\n",
    "                   \n",
    "                   \n",
    "\n",
    "\n",
    "\n",
    "\n",
    "plt.figure(figsize=(8, 6))\n",
    "plt.scatter(x, y, c=colors, s=100, alpha=0.8, label=\"Means\")\n",
    "plt.scatter(x2, y2, c=colors, s=50, alpha=0.6, label=\"Standard Deviations\")\n",
    "plt.xlabel(\"sepal Length\")\n",
    "plt.ylabel(\"sepal Width\")\n",
    "plt.title(\"Iris Sepal Data\")\n",
    "point_legend = plt.legend(title=\"Point Type\", loc=\"upper left\")\n",
    "plt.gca().add_artist(point_legend)  \n",
    "elmnts = [Line2D([0], [0], marker='o', color='w', label=cls, markerfacecolor=col, markersize=10)for cls, col in zip(classes, colors)]\n",
    "\n",
    "plt.grid(True)\n",
    "plt.legend(handles=elmnts, title=\"Species\", loc=\"lower right\")\n",
    "plt.tight_layout()\n",
    "plt.show()\n",
    "\n",
    "\n"
   ]
  },
  {
   "cell_type": "code",
   "execution_count": null,
   "metadata": {},
   "outputs": [],
   "source": []
  },
  {
   "cell_type": "code",
   "execution_count": null,
   "metadata": {},
   "outputs": [],
   "source": []
  }
 ],
 "metadata": {
  "kernelspec": {
   "display_name": "Python 3 (ipykernel)",
   "language": "python",
   "name": "python3"
  },
  "language_info": {
   "codemirror_mode": {
    "name": "ipython",
    "version": 3
   },
   "file_extension": ".py",
   "mimetype": "text/x-python",
   "name": "python",
   "nbconvert_exporter": "python",
   "pygments_lexer": "ipython3",
   "version": "3.9.12"
  }
 },
 "nbformat": 4,
 "nbformat_minor": 4
}
